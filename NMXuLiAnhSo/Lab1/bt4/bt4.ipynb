{
 "cells": [
  {
   "cell_type": "code",
   "execution_count": 2,
   "id": "affc3a6a-fbe2-4cfd-a209-12b4e5a155a6",
   "metadata": {},
   "outputs": [],
   "source": [
    "from skimage import io, color\n",
    "import numpy as np\n",
    "image = io.imread('bird.png')\n",
    "hsv_image = color.rgb2hsv(image)\n",
    "hsv_image[:, :, 0] = hsv_image[:, :, 0] * (1/3)\n",
    "hsv_image[:, :, 2] = np.clip(hsv_image[:, :, 2] * 34, 0, 1)\n",
    "new_rgb = color.hsv2rgb(hsv_image)\n",
    "io.imsave('transformed_hsv.png', (new_rgb * 255).astype(np.uint8))"
   ]
  },
  {
   "cell_type": "code",
   "execution_count": null,
   "id": "5c2d689f-20a6-4647-aed3-32691ee15c9e",
   "metadata": {},
   "outputs": [],
   "source": []
  }
 ],
 "metadata": {
  "kernelspec": {
   "display_name": "Python 3 (ipykernel)",
   "language": "python",
   "name": "python3"
  },
  "language_info": {
   "codemirror_mode": {
    "name": "ipython",
    "version": 3
   },
   "file_extension": ".py",
   "mimetype": "text/x-python",
   "name": "python",
   "nbconvert_exporter": "python",
   "pygments_lexer": "ipython3",
   "version": "3.13.3"
  }
 },
 "nbformat": 4,
 "nbformat_minor": 5
}
