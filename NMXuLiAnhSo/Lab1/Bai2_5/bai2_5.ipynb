{
 "cells": [
  {
   "cell_type": "code",
   "execution_count": 6,
   "id": "025481d9-1c94-40d0-9b29-3b0611e52b89",
   "metadata": {},
   "outputs": [
    {
     "name": "stdout",
     "output_type": "stream",
     "text": [
      "(0.0, 1.0, 255)\n",
      "(0.0, 1.0, 1)\n",
      "(0.3333333333333333, 1.0, 255)\n",
      "(0.6666666666666666, 0.996078431372549, 255)\n"
     ]
    }
   ],
   "source": [
    "import numpy as np\n",
    "import imageio.v2 as img\n",
    "import matplotlib.pylab as mpl\n",
    "import colorsys\n",
    "a=colorsys.rgb_to_hsv(255,0,0)\n",
    "b=colorsys.rgb_to_hsv(1,0,0)\n",
    "c=colorsys.rgb_to_hsv(0,255,0)\n",
    "d=colorsys.rgb_to_hsv(1,1,255)\n",
    "print(f\"{a}\\n{b}\\n{c}\\n{d}\")\n"
   ]
  },
  {
   "cell_type": "code",
   "execution_count": null,
   "id": "95e6bdfc-66e2-4398-8601-4b8b59009b87",
   "metadata": {},
   "outputs": [],
   "source": []
  }
 ],
 "metadata": {
  "kernelspec": {
   "display_name": "Python 3 (ipykernel)",
   "language": "python",
   "name": "python3"
  },
  "language_info": {
   "codemirror_mode": {
    "name": "ipython",
    "version": 3
   },
   "file_extension": ".py",
   "mimetype": "text/x-python",
   "name": "python",
   "nbconvert_exporter": "python",
   "pygments_lexer": "ipython3",
   "version": "3.13.3"
  }
 },
 "nbformat": 4,
 "nbformat_minor": 5
}
