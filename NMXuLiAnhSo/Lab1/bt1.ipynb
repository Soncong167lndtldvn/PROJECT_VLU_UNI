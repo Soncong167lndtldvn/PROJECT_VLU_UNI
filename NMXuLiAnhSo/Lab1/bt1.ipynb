{
 "cells": [
  {
   "cell_type": "code",
   "execution_count": 1,
   "id": "8f404429-aef6-439f-be7e-55153193a20a",
   "metadata": {},
   "outputs": [],
   "source": [
    "from skimage import io, color\n",
    "import numpy as np\n",
    "image = io.imread('bird.png')\n",
    "red = image[:, :, 0]\n",
    "green = image[:, :, 1]\n",
    "blue = image[:, :, 2]\n",
    "io.imsave('red_channel.png', red)\n",
    "io.imsave('green_channel.png', green)\n",
    "io.imsave('blue_channel.png', blue)"
   ]
  },
  {
   "cell_type": "code",
   "execution_count": null,
   "id": "eaf8b634-e50c-47bd-a83e-f52cf689fce3",
   "metadata": {},
   "outputs": [],
   "source": []
  }
 ],
 "metadata": {
  "kernelspec": {
   "display_name": "Python 3 (ipykernel)",
   "language": "python",
   "name": "python3"
  },
  "language_info": {
   "codemirror_mode": {
    "name": "ipython",
    "version": 3
   },
   "file_extension": ".py",
   "mimetype": "text/x-python",
   "name": "python",
   "nbconvert_exporter": "python",
   "pygments_lexer": "ipython3",
   "version": "3.13.3"
  }
 },
 "nbformat": 4,
 "nbformat_minor": 5
}
