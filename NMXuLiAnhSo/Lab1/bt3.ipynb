{
 "cells": [
  {
   "cell_type": "code",
   "execution_count": 1,
   "id": "bd046117-8574-4e0a-bda7-f1e495fce25c",
   "metadata": {},
   "outputs": [],
   "source": [
    "from skimage import io, color\n",
    "import numpy as np\n",
    "image = io.imread('bird.png')\n",
    "hsv_image = color.rgb2hsv(image)\n",
    "hue = (hsv_image[:, :, 0] * 255).astype(np.uint8) \n",
    "saturation = (hsv_image[:, :, 1] * 255).astype(np.uint8)\n",
    "value = (hsv_image[:, :, 2] * 255).astype(np.uint8)\n",
    "io.imsave('hue.png', hue)\n",
    "io.imsave('saturation.png', saturation)\n",
    "io.imsave('value.png', value)"
   ]
  },
  {
   "cell_type": "code",
   "execution_count": null,
   "id": "88fa4a27-622a-4553-90c4-963e396dd239",
   "metadata": {},
   "outputs": [],
   "source": []
  }
 ],
 "metadata": {
  "kernelspec": {
   "display_name": "Python 3 (ipykernel)",
   "language": "python",
   "name": "python3"
  },
  "language_info": {
   "codemirror_mode": {
    "name": "ipython",
    "version": 3
   },
   "file_extension": ".py",
   "mimetype": "text/x-python",
   "name": "python",
   "nbconvert_exporter": "python",
   "pygments_lexer": "ipython3",
   "version": "3.13.3"
  }
 },
 "nbformat": 4,
 "nbformat_minor": 5
}
