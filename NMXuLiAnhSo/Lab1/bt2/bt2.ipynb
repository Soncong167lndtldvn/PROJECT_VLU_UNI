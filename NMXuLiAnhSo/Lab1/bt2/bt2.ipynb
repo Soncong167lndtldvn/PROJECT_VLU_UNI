{
 "cells": [
  {
   "cell_type": "code",
   "execution_count": 1,
   "id": "1d534023-59f5-4bb7-996a-e9d2e72b950a",
   "metadata": {},
   "outputs": [],
   "source": [
    "from skimage import io\n",
    "image = io.imread('bird.png')\n",
    "swapped_image = image.copy()\n",
    "swapped_image[:, :, 0] = image[:, :, 2]\n",
    "swapped_image[:, :, 2] = image[:, :, 0]\n",
    "io.imsave('swapped_colors.png', swapped_image)"
   ]
  },
  {
   "cell_type": "code",
   "execution_count": null,
   "id": "fd4331d8-798c-4a39-86e5-62ae169bed64",
   "metadata": {},
   "outputs": [],
   "source": []
  }
 ],
 "metadata": {
  "kernelspec": {
   "display_name": "Python 3 (ipykernel)",
   "language": "python",
   "name": "python3"
  },
  "language_info": {
   "codemirror_mode": {
    "name": "ipython",
    "version": 3
   },
   "file_extension": ".py",
   "mimetype": "text/x-python",
   "name": "python",
   "nbconvert_exporter": "python",
   "pygments_lexer": "ipython3",
   "version": "3.13.3"
  }
 },
 "nbformat": 4,
 "nbformat_minor": 5
}
